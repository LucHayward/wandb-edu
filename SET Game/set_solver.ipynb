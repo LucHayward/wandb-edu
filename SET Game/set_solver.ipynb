{
 "cells": [
  {
   "cell_type": "markdown",
   "metadata": {},
   "source": [
    "# Set Solver\n",
    "Methods needed to solve set scenes\n",
    "1. Given a list of cards C\n",
    "2. Iterate of the list to find all possible Sets\n",
    "\n",
    "A card can have the following properties:\n",
    "* Colour [Purple, Green, Red]\n",
    "* Shape [Diamond, Bendy, Oval]\n",
    "* Fill [Empty, Stripe, Full]\n",
    "* Number [1,2,3]\n",
    "\n",
    "A set is any 3 cards that in each category are:\n",
    "* All the same\n",
    "* All different (ie one of each)"
   ]
  },
  {
   "cell_type": "code",
   "execution_count": 34,
   "metadata": {},
   "outputs": [],
   "source": [
    "class Card:\n",
    "    colours = {'purple', 'green', 'red'}\n",
    "    shapes = {'diamond','bendy','oval'}\n",
    "    fills = {'empty', 'stripe','full'}\n",
    "    numbers = [1,2,3]\n",
    "\n",
    "    def __init__(self, colour, shape, fill, number):\n",
    "        self.colour = colour\n",
    "        self.shape = shape\n",
    "        self.fill = fill\n",
    "        self.number = number\n",
    "\n",
    "    def __str__(self):\n",
    "        return repr(self)\n",
    "    \n",
    "    def __repr__(self):\n",
    "\n",
    "        return f\"Card({self.colour}, {self.shape}, {self.fill}, {self.number})\"\n",
    "\n",
    "    @staticmethod\n",
    "    def is_set(card1: Card, card2: Card, card3: Card) -> bool:\n",
    "        \"\"\"\n",
    "        Determine whether these cards make a set based on the following criteria:\n",
    "        \n",
    "        A card can have the following properties:\n",
    "        * Colour [Purple, Green, Red]\n",
    "        * Shape [Diamond, Bendy, Oval]\n",
    "        * Fill [Empty, Stripe, Full]\n",
    "        * Number [1,2,3]\n",
    "\n",
    "        A set is any 3 cards that in each category are:\n",
    "        * All the same\n",
    "        * All different (ie one of each)\n",
    "        \"\"\"\n",
    "        colours = {card1.colour, card2.colour, card3.colour}\n",
    "        shapes = {card1.shape, card2.shape, card3.shape}\n",
    "        fills = {card1.fill, card2.fill, card3.fill}\n",
    "        numbers = {card1.number, card2.number, card3.number}\n",
    "\n",
    "        assert 1 <= len(colours) <= 3, \"Less than 1 or more than 3 colours from 3 Cards\"\n",
    "        assert 1 <= len(shapes) <= 3, \"Less than 1 or more than 3 shapes from 3 Cards\"\n",
    "        assert 1 <= len(fills) <= 3, \"Less than 1 or more than 3 fills from 3 Cards\"\n",
    "        assert 1 <= len(numbers) <= 3, \"Less than 1 or more than 3 numbers from 3 Cards\"\n",
    "\n",
    "        # Either they're all the same (set size 1) or all different (set size 3)\n",
    "        if len(colours) in {1,3} and len(shapes) in {1,3} and len(fills) in {1,3} and len(numbers) in {1,3}:\n",
    "            return True\n",
    "        else:\n",
    "            return False\n",
    "    "
   ]
  },
  {
   "cell_type": "code",
   "execution_count": 35,
   "metadata": {},
   "outputs": [],
   "source": [
    "def find_sets(cards: list[Card]):\n",
    "    \"\"\"Find all the sets in a collection of cards\n",
    "\n",
    "    Args:\n",
    "        cards (list(Card)): A collection of cards\n",
    "    \"\"\"\n",
    "    from itertools import combinations\n",
    "    combs = combinations(cards, 3)\n",
    "    sets = []\n",
    "    for cards in combs:\n",
    "        if Card.is_set(*cards):\n",
    "            sets.append(cards)\n",
    "    return sets\n"
   ]
  },
  {
   "cell_type": "code",
   "execution_count": 36,
   "metadata": {},
   "outputs": [],
   "source": [
    "def generate_all_cards() -> list[Card]:\n",
    "    cards = []\n",
    "    from itertools import product\n",
    "    for p in product(Card.colours, Card.shapes, Card.fills, Card.numbers):\n",
    "        cards.append(Card(*p))\n",
    "\n",
    "    return cards\n",
    "    "
   ]
  },
  {
   "cell_type": "code",
   "execution_count": 40,
   "metadata": {},
   "outputs": [],
   "source": [
    "cards = generate_all_cards()\n",
    "sets = find_sets(cards)"
   ]
  }
 ],
 "metadata": {
  "kernelspec": {
   "display_name": "Python 3.10.4 ('wandb-dev')",
   "language": "python",
   "name": "python3"
  },
  "language_info": {
   "codemirror_mode": {
    "name": "ipython",
    "version": 3
   },
   "file_extension": ".py",
   "mimetype": "text/x-python",
   "name": "python",
   "nbconvert_exporter": "python",
   "pygments_lexer": "ipython3",
   "version": "3.10.5"
  },
  "orig_nbformat": 4,
  "vscode": {
   "interpreter": {
    "hash": "1f35a2b752e17313f9bdb2728219b046897a5f7513d410ce98193a0510fd9676"
   }
  }
 },
 "nbformat": 4,
 "nbformat_minor": 2
}
