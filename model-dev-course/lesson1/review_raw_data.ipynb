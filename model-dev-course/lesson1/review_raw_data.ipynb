{
 "cells": [
  {
   "cell_type": "markdown",
   "id": "5dc2acbf-ed84-4de4-b422-421a2c1a25f9",
   "metadata": {},
   "source": [
    "# The Lemon Dataset"
   ]
  },
  {
   "cell_type": "markdown",
   "id": "74c5ebe2-3761-4bf6-8cc0-981567688617",
   "metadata": {},
   "source": [
    "In this notebooks we will check the [lemon dataset](https://github.com/softwaremill/lemon-dataset).\n",
    "> Lemon dataset has been prepared to investigate the possibilities to tackle the issue of fruit quality control. It contains 2690 annotated images (1056 x 1056 pixels). Raw lemon images have been captured using the procedure described in the following blogpost and manually annotated using CVAT."
   ]
  },
  {
   "cell_type": "markdown",
   "id": "7f93bdd8-09ec-4e61-966c-9f75ada90662",
   "metadata": {},
   "source": [
    "![](assets/lemons.png)"
   ]
  },
  {
   "cell_type": "markdown",
   "id": "b977319c-e2fa-46c0-a6c4-20004fdd594a",
   "metadata": {},
   "source": [
    "and some annotated lemons"
   ]
  },
  {
   "cell_type": "markdown",
   "id": "42c49005-bbd7-4b78-9de5-621d6b7722d1",
   "metadata": {},
   "source": [
    "![](assets/annotated_lemons.png)"
   ]
  },
  {
   "cell_type": "code",
   "execution_count": 2,
   "id": "4d495db3",
   "metadata": {},
   "outputs": [],
   "source": [
    "from pycocotools.coco import COCO\n",
    "import skimage.io as io\n",
    "import numpy as np\n",
    "import pandas as pd\n",
    "import os\n",
    "\n",
    "import wandb"
   ]
  },
  {
   "cell_type": "markdown",
   "id": "fa95320a-5998-4484-8ac2-edded2c1f27a",
   "metadata": {},
   "source": [
    "we can execute bash code directly in jupyter preprending the `!` mark. This will span a new terminal instance and run the command."
   ]
  },
  {
   "cell_type": "code",
   "execution_count": null,
   "id": "3d343961",
   "metadata": {},
   "outputs": [],
   "source": [
    "!git clone -qq https://github.com/softwaremill/lemon-dataset.git\n",
    "!unzip -q lemon-dataset/data/lemon-dataset.zip"
   ]
  },
  {
   "cell_type": "markdown",
   "id": "951071ac-cfab-4498-8889-be2a56b92f8b",
   "metadata": {},
   "source": [
    "We will define some global configuration parameters. `ENTITY` should correspond to your W&B Team name if you work in a team, replace it with `None` if you work individually. "
   ]
  },
  {
   "cell_type": "code",
   "execution_count": null,
   "id": "faf4527e",
   "metadata": {},
   "outputs": [],
   "source": [
    "PROJECT_NAME = 'lemon-project'\n",
    "ENTITY = 'wandb_course'\n",
    "RAW_DATA_FOLDER = 'lemon-dataset/'\n",
    "ANNOTATIONS_FILE = 'lemon-dataset/annotations/instances_default.json'"
   ]
  },
  {
   "cell_type": "markdown",
   "id": "ecbf7126-727c-4ae7-bb0e-bfe68c2d1bd3",
   "metadata": {},
   "source": [
    "we can read the `COCO` object using the `pycoco` library, this is a standard format for object detection/segmentation."
   ]
  },
  {
   "cell_type": "code",
   "execution_count": null,
   "id": "b64173f6",
   "metadata": {},
   "outputs": [],
   "source": [
    "coco = COCO(ANNOTATIONS_FILE)"
   ]
  },
  {
   "cell_type": "markdown",
   "id": "8c853666-82e6-4757-8be1-c2ad5fbc448d",
   "metadata": {},
   "source": [
    "get categories (not 😸)"
   ]
  },
  {
   "cell_type": "code",
   "execution_count": null,
   "id": "fbd3a48a-48da-415f-ab65-d1e8dd0b5a38",
   "metadata": {},
   "outputs": [],
   "source": [
    "cats = coco.loadCats(coco.getCatIds())\n",
    "catIds = coco.getCatIds()"
   ]
  },
  {
   "cell_type": "markdown",
   "id": "9516ad4f-41fb-43b6-b800-ca3c9e31ad3f",
   "metadata": {},
   "source": [
    "get image ids"
   ]
  },
  {
   "cell_type": "code",
   "execution_count": null,
   "id": "22228aab-acea-4524-9e74-2354362747e9",
   "metadata": {},
   "outputs": [],
   "source": [
    "imgIds = coco.getImgIds()\n",
    "imgs = coco.loadImgs(imgIds)"
   ]
  },
  {
   "cell_type": "markdown",
   "id": "c14d1fbb-9497-49d7-9785-b3d34ec24941",
   "metadata": {},
   "source": [
    "we define some hleper functions to load the annotations and labels"
   ]
  },
  {
   "cell_type": "code",
   "execution_count": null,
   "id": "1e5bd855",
   "metadata": {},
   "outputs": [],
   "source": [
    "def get_anns(img):\n",
    "    annIds = coco.getAnnIds(imgIds=img['id'], catIds=catIds, iscrowd=None)\n",
    "    return coco.loadAnns(annIds)\n",
    "\n",
    "def get_label(ann):\n",
    "    return [cat['name'] for cat in cats if cat['id'] == ann['category_id']][0]"
   ]
  },
  {
   "cell_type": "markdown",
   "id": "480dd317-20eb-44a0-9c55-a828fffe9b0a",
   "metadata": {},
   "source": [
    "We will log the images with the corresponding bounding boxes and masks to a `wandb.Table` to visualize and do further EDA on the W&B workspace"
   ]
  },
  {
   "cell_type": "code",
   "execution_count": null,
   "id": "fd679fa4",
   "metadata": {},
   "outputs": [],
   "source": [
    "def make_wandb_image(img):\n",
    "    \"Helper function to create an annotated wandb.Image\"\n",
    "    pth = os.path.join(RAW_DATA_FOLDER, img['file_name'])\n",
    "    img_array = io.imread(pth)\n",
    "    anns = get_anns(img)\n",
    "\n",
    "    truth_box_data = [{'position': {'minX': ann['bbox'][0],\n",
    "                                  'minY': ann['bbox'][1],\n",
    "                                  'maxX': ann['bbox'][0]+ann['bbox'][2],\n",
    "                                  'maxY': ann['bbox'][1]+ann['bbox'][3]},\n",
    "                      'class_id': ann['category_id'],\n",
    "                      'box_caption': get_label(ann),\n",
    "                      'domain': 'pixel'} for ann in anns]\n",
    "\n",
    "    masks = [coco.annToMask(ann)*ann['category_id'] for ann in anns]\n",
    "    mask = np.stack(masks).max(axis=0)  # arbitrary way to select a label...\n",
    "    return wandb.Image(\n",
    "                    img_array,\n",
    "                    classes=cats,\n",
    "                    boxes={'ground_truth': {'box_data': truth_box_data}},\n",
    "                    masks={'ground_truth': {'mask_data': mask}}\n",
    "                    )"
   ]
  },
  {
   "cell_type": "markdown",
   "id": "eec1d587-5fdc-4d85-bc31-f1bd18a2c2a9",
   "metadata": {},
   "source": [
    "we are interested in mold, so let's create a function to filter this catergory"
   ]
  },
  {
   "cell_type": "code",
   "execution_count": null,
   "id": "5a6891f9",
   "metadata": {},
   "outputs": [],
   "source": [
    "def is_mold(img):\n",
    "    anns = get_anns(img)\n",
    "    # 4 is id of mold category\n",
    "    return 4 in [x['category_id'] for x in anns]"
   ]
  },
  {
   "cell_type": "markdown",
   "id": "39bc2305-0096-42d1-a800-7bc926936474",
   "metadata": {},
   "source": [
    "the filename contains the different info about each image separated by an underscore. \n",
    "> You will notice that file names are composed to form a specific identifier e.g.: 0037_G_I_120_A: 0037 (individual fruit instance), 120 (relative photo angle), A (photo position). Some of them are restricted to the original project and cannot be published."
   ]
  },
  {
   "cell_type": "markdown",
   "id": "dc9d9e38-9264-4d14-9793-047d83588310",
   "metadata": {},
   "source": [
    "We will log this information in separate columns"
   ]
  },
  {
   "cell_type": "code",
   "execution_count": null,
   "id": "15fd1ae3",
   "metadata": {},
   "outputs": [],
   "source": [
    "imgs[0]['file_name']"
   ]
  },
  {
   "cell_type": "markdown",
   "id": "a061011b-9cbe-451f-ae03-0c73cf8de983",
   "metadata": {},
   "source": [
    "let's recover the filename without extension"
   ]
  },
  {
   "cell_type": "code",
   "execution_count": null,
   "id": "028cf679-66e2-4071-9567-1b8a6b96fa50",
   "metadata": {},
   "outputs": [],
   "source": [
    "fname = imgs[0]['file_name'].split('/')[1].split('.')[0]\n",
    "fname"
   ]
  },
  {
   "cell_type": "markdown",
   "id": "a87715a9-2e4d-44d8-b0a8-442db6172586",
   "metadata": {},
   "source": [
    "we then want to split on each individual feature"
   ]
  },
  {
   "cell_type": "code",
   "execution_count": null,
   "id": "0f458ffe-6b84-4be5-9882-f015f3bf8336",
   "metadata": {},
   "outputs": [],
   "source": [
    "fname.split('_')"
   ]
  },
  {
   "cell_type": "code",
   "execution_count": null,
   "id": "1bc6ebfc-493e-4ffe-a5b3-551651d80fa9",
   "metadata": {},
   "outputs": [],
   "source": [
    "def make_row(img):\n",
    "    \"Refactor of each table row\"\n",
    "    fname = img['file_name'].split('/')[1].split('.')[0]\n",
    "    return [make_wandb_image(img), *fname.split('_'), img['file_name'], is_mold(img)]"
   ]
  },
  {
   "cell_type": "code",
   "execution_count": null,
   "id": "4b0782d2-37a2-4e16-be7b-99cdab406932",
   "metadata": {},
   "outputs": [],
   "source": [
    "make_row(imgs[0])"
   ]
  },
  {
   "cell_type": "markdown",
   "id": "c9a43173-4dd1-4ebb-930a-4eb28e95f8e0",
   "metadata": {},
   "source": [
    "let's log the dataset as a Table, it takes around 5 minutes depending on your connection."
   ]
  },
  {
   "cell_type": "code",
   "execution_count": null,
   "id": "719e6956-e7f9-436c-a980-ecffe1201878",
   "metadata": {
    "tags": []
   },
   "outputs": [],
   "source": [
    "# imgs = imgs[0:5]  #uncomment to log a sample only\n",
    "\n",
    "with wandb.init(project=PROJECT_NAME, entity=ENTITY, job_type=\"EDA\") as run:    \n",
    "    df = pd.DataFrame(data=[make_row(img) for img in imgs],\n",
    "                      columns='imgs,ids,n1,n2,n3,n4,file_name,is_mold'.split(','))\n",
    "    run.log({'table_coco_sample': wandb.Table(dataframe=df)})"
   ]
  },
  {
   "cell_type": "code",
   "execution_count": null,
   "id": "53470c59",
   "metadata": {},
   "outputs": [],
   "source": []
  }
 ],
 "metadata": {
  "kernelspec": {
   "display_name": "Python 3.10.4 ('wandb-dev')",
   "language": "python",
   "name": "python3"
  },
  "language_info": {
   "codemirror_mode": {
    "name": "ipython",
    "version": 3
   },
   "file_extension": ".py",
   "mimetype": "text/x-python",
   "name": "python",
   "nbconvert_exporter": "python",
   "pygments_lexer": "ipython3",
   "version": "3.10.5"
  },
  "vscode": {
   "interpreter": {
    "hash": "1f35a2b752e17313f9bdb2728219b046897a5f7513d410ce98193a0510fd9676"
   }
  }
 },
 "nbformat": 4,
 "nbformat_minor": 5
}
